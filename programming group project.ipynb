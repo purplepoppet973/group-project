{
 "cells": [
  {
   "cell_type": "markdown",
   "id": "5d68de63",
   "metadata": {},
   "source": [
    "This code uses user inputs to create a visual 'grid-style' animation simulating the statistics of the coronavirus epidemic. The grid animation itself was created in a separate python file and imported into the main script later, and creates the functions infect, vaccinate and simulate among various embedded if/else statements and for and while loops. \n",
    "Each square of the grid is then integrated and plotted into an SIRVD model plotting a graph of Susceptible/ Infected/ Recovered/ Vaccinated/ Deceased people over time as the animation unfolds. "
   ]
  },
  {
   "cell_type": "markdown",
   "id": "0e4c3584",
   "metadata": {},
   "source": [
    "The first user prompt is used to define the function “settings”, which asks the user whether they wish to use default or custom settings to create the simulation. Using default settings will create an animation from predetermined values found about the coronavirus epidemic [reference], by calling the function “menu_create” which takes the user to a new window usinh a while loop in order to start the simulation. "
   ]
  },
  {
   "cell_type": "code",
   "execution_count": 1,
   "id": "9b6c04a9",
   "metadata": {},
   "outputs": [
    {
     "ename": "NameError",
     "evalue": "name 'q1' is not defined",
     "output_type": "error",
     "traceback": [
      "\u001b[1;31m---------------------------------------------------------------------------\u001b[0m",
      "\u001b[1;31mNameError\u001b[0m                                 Traceback (most recent call last)",
      "\u001b[1;32m<ipython-input-1-9033cabbbe4d>\u001b[0m in \u001b[0;36m<module>\u001b[1;34m\u001b[0m\n\u001b[1;32m----> 1\u001b[1;33m \u001b[1;32mif\u001b[0m \u001b[0mq1\u001b[0m \u001b[1;33m==\u001b[0m \u001b[1;34m\"d\"\u001b[0m\u001b[1;33m:\u001b[0m\u001b[1;33m\u001b[0m\u001b[1;33m\u001b[0m\u001b[0m\n\u001b[0m\u001b[0;32m      2\u001b[0m         \u001b[0mprob\u001b[0m \u001b[1;33m=\u001b[0m \u001b[1;36m0.05\u001b[0m\u001b[1;33m\u001b[0m\u001b[1;33m\u001b[0m\u001b[0m\n\u001b[0;32m      3\u001b[0m         \u001b[0mdeath\u001b[0m \u001b[1;33m=\u001b[0m \u001b[1;36m0.01\u001b[0m\u001b[1;33m\u001b[0m\u001b[1;33m\u001b[0m\u001b[0m\n\u001b[0;32m      4\u001b[0m         \u001b[0mday_max\u001b[0m \u001b[1;33m=\u001b[0m \u001b[1;36m300\u001b[0m\u001b[1;33m\u001b[0m\u001b[1;33m\u001b[0m\u001b[0m\n\u001b[0;32m      5\u001b[0m         \u001b[0mvax_level\u001b[0m \u001b[1;33m=\u001b[0m \u001b[1;36m0.008\u001b[0m\u001b[1;33m\u001b[0m\u001b[1;33m\u001b[0m\u001b[0m\n",
      "\u001b[1;31mNameError\u001b[0m: name 'q1' is not defined"
     ]
    }
   ],
   "source": [
    "if q1 == \"d\":\n",
    "        prob = 0.05\n",
    "        death = 0.01\n",
    "        day_max = 300\n",
    "        vax_level = 0.008\n",
    "        vax_day = 200\n",
    "        menu_create(prob, death, day_max, vax_level, vax_day)\n"
   ]
  },
  {
   "cell_type": "code",
   "execution_count": 2,
   "id": "a623bea0",
   "metadata": {},
   "outputs": [
    {
     "ename": "NameError",
     "evalue": "name 'running' is not defined",
     "output_type": "error",
     "traceback": [
      "\u001b[1;31m---------------------------------------------------------------------------\u001b[0m",
      "\u001b[1;31mNameError\u001b[0m                                 Traceback (most recent call last)",
      "\u001b[1;32m<ipython-input-2-ce3bcd35ba13>\u001b[0m in \u001b[0;36m<module>\u001b[1;34m\u001b[0m\n\u001b[1;32m----> 1\u001b[1;33m \u001b[1;32mwhile\u001b[0m \u001b[0mrunning\u001b[0m\u001b[1;33m:\u001b[0m\u001b[1;33m\u001b[0m\u001b[1;33m\u001b[0m\u001b[0m\n\u001b[0m\u001b[0;32m      2\u001b[0m       \u001b[1;32mfor\u001b[0m \u001b[0mevent\u001b[0m \u001b[1;32min\u001b[0m \u001b[0mpygame\u001b[0m\u001b[1;33m.\u001b[0m\u001b[0mevent\u001b[0m\u001b[1;33m.\u001b[0m\u001b[0mget\u001b[0m\u001b[1;33m(\u001b[0m\u001b[1;33m)\u001b[0m\u001b[1;33m:\u001b[0m\u001b[1;33m\u001b[0m\u001b[1;33m\u001b[0m\u001b[0m\n\u001b[0;32m      3\u001b[0m         \u001b[1;32mif\u001b[0m \u001b[0mevent\u001b[0m\u001b[1;33m.\u001b[0m\u001b[0mtype\u001b[0m \u001b[1;33m==\u001b[0m \u001b[0mpygame\u001b[0m\u001b[1;33m.\u001b[0m\u001b[0mQUIT\u001b[0m\u001b[1;33m:\u001b[0m\u001b[1;33m\u001b[0m\u001b[1;33m\u001b[0m\u001b[0m\n\u001b[0;32m      4\u001b[0m           \u001b[0mrunning\u001b[0m \u001b[1;33m=\u001b[0m \u001b[1;32mFalse\u001b[0m\u001b[1;33m\u001b[0m\u001b[1;33m\u001b[0m\u001b[0m\n\u001b[0;32m      5\u001b[0m           \u001b[0mpygame\u001b[0m\u001b[1;33m.\u001b[0m\u001b[0mquit\u001b[0m\u001b[1;33m(\u001b[0m\u001b[1;33m)\u001b[0m\u001b[1;33m\u001b[0m\u001b[1;33m\u001b[0m\u001b[0m\n",
      "\u001b[1;31mNameError\u001b[0m: name 'running' is not defined"
     ]
    }
   ],
   "source": [
    "while running:\n",
    "      for event in pygame.event.get():\n",
    "        if event.type == pygame.QUIT:\n",
    "          running = False\n",
    "          pygame.quit()\n",
    "          sys.exit()\n",
    "\n",
    "        if event.type == pygame.KEYDOWN:\n",
    "            if event.key == pygame.K_RETURN:\n",
    "                begin(prob, death, day_max, vax_level, vax_day)\n",
    "                pygame.quit()\n",
    "                sys.exit()\n",
    "\n",
    "            if event.key == pygame.K_ESCAPE:\n",
    "                pygame.quit()\n",
    "                sys.exit()"
   ]
  },
  {
   "cell_type": "markdown",
   "id": "2b6992b4",
   "metadata": {},
   "source": [
    "Using custom settings allows the user to input their own values for the probability of infection, probability of death, across how many days they want the simulation to run, whether or not they want vaccinations included in the simulation. Prompting the code to simulate vaccinations triggers two more inputs: the day at which vaccination starts and percentage of susceptible population being vaccinated each day. The custom option also allows the code to be used to model other diseases/ epidemics, as vaccinations are optional and all values can be changed. "
   ]
  },
  {
   "cell_type": "markdown",
   "id": "bef3eadb",
   "metadata": {},
   "source": [
    "These values, default or custom, are then called on by the “__init__”, “infect”, “vaccinate” and “simulate” functions within the class “Simulation”, created in the separate python file containing the contents of the animation code. This class simulation then has for and while loops embedded in if/elif/else statements for each function in order to generate the grid animation using the pygame module. \n",
    "\n",
    "Once prompted by the user from the main menu, the grid displays a population, each square representing a person, which changes colour over time based on whether the person is susceptible, infected, dead, recovered or vaccinated. This is constructed in separate files,  grid_class.py and simulation_class.py, and imported into the main file. Grid_class.py draws the grid itself for the simulation and sets up commands for the infection timer and the neighbouring susceptible cells. In the simulation_class.py file, the infections, recovery and death for the cells are produced using the parameters defined in the  grid_class.py file as shown below, where the grid[i][j].colour assigns the cells a parameter. "
   ]
  },
  {
   "cell_type": "code",
   "execution_count": null,
   "id": "b7b7061e",
   "metadata": {},
   "outputs": [],
   "source": [
    " for i in range(0,ROWS):\n",
    "            for j in range(0,ROWS):\n",
    "    \n",
    "                if grid[i][j].colour != BLACK:\n",
    "                    if grid[i][j].colour != BLUE:\n",
    "                        r = random.rand()\n",
    "                        d = random.rand()\n",
    "    \n",
    "                        new_prob = prob * grid[i][j].neighbours\n",
    "                        if r < new_prob:\n",
    "                            grid[i][j].colour = RED\n",
    "    \n",
    "    \n",
    "                        if grid[i][j].colour == RED:\n",
    "                            grid[i][j].infection_timer += 1 \n",
    "                        grid[i][j].neighbours = 0\n",
    "    \n",
    "                        if grid[i][j].infection_timer >= 14:\n",
    "                            grid[i][j].colour = GREEN\n",
    "    \n",
    "    \n",
    "                        if grid[i][j].colour == RED:\n",
    "                            if d < death:\n",
    "                                grid[i][j].colour = BLACK"
   ]
  }
 ],
 "metadata": {
  "kernelspec": {
   "display_name": "Python 3",
   "language": "python",
   "name": "python3"
  },
  "language_info": {
   "codemirror_mode": {
    "name": "ipython",
    "version": 3
   },
   "file_extension": ".py",
   "mimetype": "text/x-python",
   "name": "python",
   "nbconvert_exporter": "python",
   "pygments_lexer": "ipython3",
   "version": "3.8.8"
  }
 },
 "nbformat": 4,
 "nbformat_minor": 5
}
