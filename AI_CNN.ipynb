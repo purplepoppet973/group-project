{
  "nbformat": 4,
  "nbformat_minor": 0,
  "metadata": {
    "colab": {
      "provenance": [],
      "include_colab_link": true
    },
    "kernelspec": {
      "name": "python3",
      "display_name": "Python 3"
    },
    "language_info": {
      "name": "python"
    }
  },
  "cells": [
    {
      "cell_type": "markdown",
      "metadata": {
        "id": "view-in-github",
        "colab_type": "text"
      },
      "source": [
        "<a href=\"https://colab.research.google.com/github/purplepoppet973/group-project/blob/main/AI_CNN.ipynb\" target=\"_parent\"><img src=\"https://colab.research.google.com/assets/colab-badge.svg\" alt=\"Open In Colab\"/></a>"
      ]
    },
    {
      "cell_type": "code",
      "execution_count": null,
      "metadata": {
        "id": "n7NHhV1XcmZk",
        "colab": {
          "base_uri": "https://localhost:8080/",
          "height": 106
        },
        "outputId": "e1d76a06-2744-4693-a3e8-27202e683b97"
      },
      "outputs": [
        {
          "output_type": "error",
          "ename": "SyntaxError",
          "evalue": "invalid syntax (<ipython-input-13-2e471f2b1964>, line 31)",
          "traceback": [
            "\u001b[0;36m  File \u001b[0;32m\"<ipython-input-13-2e471f2b1964>\"\u001b[0;36m, line \u001b[0;32m31\u001b[0m\n\u001b[0;31m    model.add(nn.Conv2D(, kernel_size(), activation =  'relu'))\u001b[0m\n\u001b[0m                        ^\u001b[0m\n\u001b[0;31mSyntaxError\u001b[0m\u001b[0;31m:\u001b[0m invalid syntax\n"
          ]
        }
      ],
      "source": [
        "import torch as t\n",
        "import torch.nn as nn\n",
        "import torchvision\n",
        "import torchvision.transforms as transforms\n",
        "from PIL import Image\n",
        "from google.colab import drive\n",
        "import matplotlib.pyplot as plt\n",
        "from torch.optim.lr_scheduler import StepLR\n",
        "\n",
        "drive.mount('/content/drive')\n",
        "t.manual_seed(0)\n",
        "\n",
        "# Check whether we have a GPU.  Use it if we do.\n",
        "device = t.device('cuda' if t.cuda.is_available() else 'cpu')\n",
        "\n",
        "#process the data -put images into an array\n",
        "# prepare the data, define by sizes?\n",
        "#split into test and train\n",
        "\n",
        "#making the image a vector\n",
        "img = Image.open(\"/content/drive/My Drive/AI/Conv_test_img.png\")\n",
        "#plt.imshow(img)\n",
        "\n",
        "convert_tensor = transforms.ToTensor()\n",
        "converted = convert_tensor(img)[0:3, :, :]\n",
        "print(converted)\n",
        "\n",
        "#split into test train datasets\n",
        "\n",
        "\n",
        "#making basic CNN layers\n",
        "model = nn.Sequential(\n",
        "    nn.Conv2D(32, (3, 3), activation = 'relu', input_shape=(converted.size()[0:3])),\n",
        "    nn.ReLU(),\n",
        "    nn.MaxPooling2D((2,2)),\n",
        "    #dropout layer nn.Dropout(VALUE),\n",
        "    #can add in more convolution layers increasing number of filters\n",
        "# to perform classification must put last output tensor into one or more dense layers\n",
        "#first flattern tensor to 1D\n",
        "    nn.Flatten(),\n",
        "    nn.Dense(32, activation ='relu'),\n",
        "    nn.Dense(6, activation='softmax')\n",
        ").to(device)\n",
        "\n",
        "#display model architecture\n",
        "model.summary()\n",
        "\n",
        "# this is done within a for loop for train\n",
        "\n",
        "#define optimisation\n",
        "opt = torch.optim.SGD(model.parameters(), lr=0.1, momentum=0.9)\n",
        "#can use scheduler func to decrease lr during training (justify from lit review)\n",
        "scheduler = StepLR(optimizer, step_size=10, gamma=0.1)  # Adjust step size and gamma\n",
        "\n",
        "def train():\n",
        "    #convert image to vector\n",
        "    for images, labels in converted_train:\n",
        "        # Move tensors to the configured device, and convert image to vector.\n",
        "        images = images.to(device)\n",
        "        labels = labels.to(device)\n",
        "\n",
        "        #forward pass\n",
        "        logits = model(images).squeeze() #output shape should be [N, number of classes (6)]\n",
        "\n",
        "        #backprop and optimisation step\n",
        "        loss = nn.functional.cross_entropy(logits, labels)\n",
        "        loss.backward()\n",
        "        opt.step()\n",
        "        opt.zero_grad()\n",
        "\n",
        "def test(epoch):\n",
        "    with torch.no_grad():\n",
        "      correct = 0\n",
        "      total = 0\n",
        "      for images, labels in converted_test:\n",
        "          images = images.to(device)\n",
        "          labels = labels.to(device)\n",
        "\n",
        "\n",
        "        #forward pass\n",
        "        logits = model(images).squeeze() #output shape should be [N, number of classes (6)]\n",
        "\n",
        "        #total corrct (dont think this is relevant for our application)\n",
        "        predicted = torch.argmax(logits, -1)\n",
        "        correct += (predicted == labels).sum().item()\n",
        "        total += labels.size(0)\n",
        "     print(f'Test accuracy after {epoch+1} epochs:{100 * correct / total}%')\n",
        "\n",
        " #run training\n",
        " for epoch in range(5):\n",
        "    train()\n",
        "    test(epoch)"
      ]
    },
    {
      "cell_type": "code",
      "source": [
        "import torch as t\n",
        "import torch.nn as nn\n",
        "import torchvision\n",
        "import torchvision.transforms as transforms\n",
        "from PIL import Image\n",
        "from google.colab import drive\n",
        "import matplotlib.pyplot as plt\n",
        "drive.mount('/content/drive')\n",
        "t.manual_seed(0)\n",
        "\n",
        "# Check whether we have a GPU.  Use it if we do.\n",
        "device = t.device('cuda' if t.cuda.is_available() else 'cpu')\n",
        "\n",
        "#process the data -put images into an array\n",
        "# prepare the data, define by sizes?\n",
        "#split into test and train\n",
        "\n",
        "img = Image.open(\"/content/drive/My Drive/AI/Conv_test_img.png\")\n",
        "#plt.imshow(img)\n",
        "\n",
        "convert_tensor = transforms.ToTensor()\n",
        "converted = convert_tensor(img)[0:3, :, :]\n",
        "print(converted)"
      ],
      "metadata": {
        "colab": {
          "base_uri": "https://localhost:8080/"
        },
        "id": "-qlxfon29v0e",
        "outputId": "c2895f98-4efa-4892-c8db-c495ee681da2"
      },
      "execution_count": null,
      "outputs": [
        {
          "output_type": "stream",
          "name": "stdout",
          "text": [
            "Drive already mounted at /content/drive; to attempt to forcibly remount, call drive.mount(\"/content/drive\", force_remount=True).\n",
            "tensor([[[0.1765, 0.1765, 0.1765,  ..., 0.1765, 0.1765, 0.1765],\n",
            "         [0.1765, 0.1765, 0.1765,  ..., 0.1765, 0.1765, 0.1765],\n",
            "         [0.1765, 0.1765, 0.1765,  ..., 0.1765, 0.1765, 0.1765],\n",
            "         ...,\n",
            "         [0.1333, 0.1373, 0.1255,  ..., 0.1373, 0.1412, 0.1333],\n",
            "         [0.1412, 0.1373, 0.1373,  ..., 0.1490, 0.1333, 0.1451],\n",
            "         [0.1294, 0.1373, 0.1333,  ..., 0.1412, 0.1412, 0.1412]],\n",
            "\n",
            "        [[0.1765, 0.1765, 0.1765,  ..., 0.1765, 0.1765, 0.1765],\n",
            "         [0.1765, 0.1765, 0.1765,  ..., 0.1765, 0.1765, 0.1765],\n",
            "         [0.1765, 0.1765, 0.1765,  ..., 0.1765, 0.1765, 0.1765],\n",
            "         ...,\n",
            "         [0.1373, 0.1412, 0.1294,  ..., 0.1373, 0.1412, 0.1333],\n",
            "         [0.1451, 0.1412, 0.1412,  ..., 0.1490, 0.1333, 0.1451],\n",
            "         [0.1333, 0.1412, 0.1373,  ..., 0.1412, 0.1412, 0.1412]],\n",
            "\n",
            "        [[0.1765, 0.1765, 0.1765,  ..., 0.1765, 0.1765, 0.1765],\n",
            "         [0.1765, 0.1765, 0.1765,  ..., 0.1765, 0.1765, 0.1765],\n",
            "         [0.1765, 0.1765, 0.1765,  ..., 0.1765, 0.1765, 0.1765],\n",
            "         ...,\n",
            "         [0.1373, 0.1412, 0.1294,  ..., 0.1373, 0.1412, 0.1333],\n",
            "         [0.1451, 0.1412, 0.1412,  ..., 0.1490, 0.1333, 0.1451],\n",
            "         [0.1333, 0.1412, 0.1373,  ..., 0.1412, 0.1412, 0.1412]]])\n"
          ]
        }
      ]
    }
  ]
}